{
  "cells": [
    {
      "cell_type": "markdown",
      "metadata": {},
      "source": [
        "## **Implementing Skip-gram Word Embeddings in PyTorch**\n",
        "\n",
        "Arguably the most crucial step in NLP is to convert words and sentences into a form that neural networks can work with - a vector of numbers."
      ]
    },
    {
      "cell_type": "code",
      "execution_count": 2,
      "metadata": {},
      "outputs": [
        {
          "name": "stdout",
          "output_type": "stream",
          "text": [
            "Collecting torch\n",
            "  Downloading torch-2.2.0-cp312-none-macosx_11_0_arm64.whl.metadata (25 kB)\n",
            "Collecting torchvision\n",
            "  Downloading torchvision-0.17.0-cp312-cp312-macosx_11_0_arm64.whl.metadata (6.6 kB)\n",
            "Requirement already satisfied: filelock in /Users/shikharkunalvarma/anaconda3/envs/health_predictor/lib/python3.12/site-packages (from torch) (3.13.1)\n",
            "Requirement already satisfied: typing-extensions>=4.8.0 in /Users/shikharkunalvarma/anaconda3/envs/health_predictor/lib/python3.12/site-packages (from torch) (4.9.0)\n",
            "Collecting sympy (from torch)\n",
            "  Using cached sympy-1.12-py3-none-any.whl (5.7 MB)\n",
            "Collecting networkx (from torch)\n",
            "  Using cached networkx-3.2.1-py3-none-any.whl.metadata (5.2 kB)\n",
            "Requirement already satisfied: jinja2 in /Users/shikharkunalvarma/anaconda3/envs/health_predictor/lib/python3.12/site-packages (from torch) (3.1.3)\n",
            "Requirement already satisfied: fsspec in /Users/shikharkunalvarma/anaconda3/envs/health_predictor/lib/python3.12/site-packages (from torch) (2023.12.2)\n",
            "Requirement already satisfied: numpy in /Users/shikharkunalvarma/anaconda3/envs/health_predictor/lib/python3.12/site-packages (from torchvision) (1.26.3)\n",
            "Requirement already satisfied: requests in /Users/shikharkunalvarma/anaconda3/envs/health_predictor/lib/python3.12/site-packages (from torchvision) (2.31.0)\n",
            "Requirement already satisfied: pillow!=8.3.*,>=5.3.0 in /Users/shikharkunalvarma/anaconda3/envs/health_predictor/lib/python3.12/site-packages (from torchvision) (10.2.0)\n",
            "Requirement already satisfied: MarkupSafe>=2.0 in /Users/shikharkunalvarma/anaconda3/envs/health_predictor/lib/python3.12/site-packages (from jinja2->torch) (2.1.4)\n",
            "Requirement already satisfied: charset-normalizer<4,>=2 in /Users/shikharkunalvarma/anaconda3/envs/health_predictor/lib/python3.12/site-packages (from requests->torchvision) (3.3.2)\n",
            "Requirement already satisfied: idna<4,>=2.5 in /Users/shikharkunalvarma/anaconda3/envs/health_predictor/lib/python3.12/site-packages (from requests->torchvision) (3.6)\n",
            "Requirement already satisfied: urllib3<3,>=1.21.1 in /Users/shikharkunalvarma/anaconda3/envs/health_predictor/lib/python3.12/site-packages (from requests->torchvision) (2.1.0)\n",
            "Requirement already satisfied: certifi>=2017.4.17 in /Users/shikharkunalvarma/anaconda3/envs/health_predictor/lib/python3.12/site-packages (from requests->torchvision) (2023.11.17)\n",
            "Collecting mpmath>=0.19 (from sympy->torch)\n",
            "  Using cached mpmath-1.3.0-py3-none-any.whl (536 kB)\n",
            "Downloading torch-2.2.0-cp312-none-macosx_11_0_arm64.whl (59.7 MB)\n",
            "\u001b[2K   \u001b[90m━━━━━━━━━━━━━━━━━━━━━━━━━━━━━━━━━━━━━━━━\u001b[0m \u001b[32m59.7/59.7 MB\u001b[0m \u001b[31m7.6 MB/s\u001b[0m eta \u001b[36m0:00:00\u001b[0m00:01\u001b[0m00:01\u001b[0m\n",
            "\u001b[?25hDownloading torchvision-0.17.0-cp312-cp312-macosx_11_0_arm64.whl (1.6 MB)\n",
            "\u001b[2K   \u001b[90m━━━━━━━━━━━━━━━━━━━━━━━━━━━━━━━━━━━━━━━━\u001b[0m \u001b[32m1.6/1.6 MB\u001b[0m \u001b[31m8.7 MB/s\u001b[0m eta \u001b[36m0:00:00\u001b[0m00:01\u001b[0m00:01\u001b[0m\n",
            "\u001b[?25hUsing cached networkx-3.2.1-py3-none-any.whl (1.6 MB)\n",
            "Installing collected packages: mpmath, sympy, networkx, torch, torchvision\n",
            "Successfully installed mpmath-1.3.0 networkx-3.2.1 sympy-1.12 torch-2.2.0 torchvision-0.17.0\n"
          ]
        }
      ],
      "source": [
        "!pip install torch torchvision"
      ]
    },
    {
      "cell_type": "code",
      "execution_count": 4,
      "metadata": {},
      "outputs": [
        {
          "name": "stdout",
          "output_type": "stream",
          "text": [
            "Collecting nltk\n",
            "  Using cached nltk-3.8.1-py3-none-any.whl (1.5 MB)\n",
            "Requirement already satisfied: click in /Users/shikharkunalvarma/anaconda3/envs/health_predictor/lib/python3.12/site-packages (from nltk) (8.1.7)\n",
            "Requirement already satisfied: joblib in /Users/shikharkunalvarma/anaconda3/envs/health_predictor/lib/python3.12/site-packages (from nltk) (1.3.2)\n",
            "Collecting regex>=2021.8.3 (from nltk)\n",
            "  Downloading regex-2023.12.25-cp312-cp312-macosx_11_0_arm64.whl.metadata (40 kB)\n",
            "\u001b[2K     \u001b[90m━━━━━━━━━━━━━━━━━━━━━━━━━━━━━━━━━━━━━━━\u001b[0m \u001b[32m40.9/40.9 kB\u001b[0m \u001b[31m381.3 kB/s\u001b[0m eta \u001b[36m0:00:00\u001b[0ma \u001b[36m0:00:01\u001b[0m\n",
            "\u001b[?25hRequirement already satisfied: tqdm in /Users/shikharkunalvarma/anaconda3/envs/health_predictor/lib/python3.12/site-packages (from nltk) (4.66.1)\n",
            "Downloading regex-2023.12.25-cp312-cp312-macosx_11_0_arm64.whl (292 kB)\n",
            "\u001b[2K   \u001b[90m━━━━━━━━━━━━━━━━━━━━━━━━━━━━━━━━━━━━━━━━\u001b[0m \u001b[32m292.2/292.2 kB\u001b[0m \u001b[31m2.0 MB/s\u001b[0m eta \u001b[36m0:00:00\u001b[0ma \u001b[36m0:00:01\u001b[0mm\n",
            "\u001b[?25hInstalling collected packages: regex, nltk\n",
            "Successfully installed nltk-3.8.1 regex-2023.12.25\n"
          ]
        }
      ],
      "source": [
        "!pip install nltk "
      ]
    },
    {
      "cell_type": "code",
      "execution_count": 5,
      "metadata": {},
      "outputs": [
        {
          "name": "stdout",
          "output_type": "stream",
          "text": [
            "Requirement already satisfied: scikit-learn in /Users/shikharkunalvarma/anaconda3/envs/health_predictor/lib/python3.12/site-packages (1.4.0)\n",
            "Requirement already satisfied: numpy<2.0,>=1.19.5 in /Users/shikharkunalvarma/anaconda3/envs/health_predictor/lib/python3.12/site-packages (from scikit-learn) (1.26.3)\n",
            "Requirement already satisfied: scipy>=1.6.0 in /Users/shikharkunalvarma/anaconda3/envs/health_predictor/lib/python3.12/site-packages (from scikit-learn) (1.11.4)\n",
            "Requirement already satisfied: joblib>=1.2.0 in /Users/shikharkunalvarma/anaconda3/envs/health_predictor/lib/python3.12/site-packages (from scikit-learn) (1.3.2)\n",
            "Requirement already satisfied: threadpoolctl>=2.0.0 in /Users/shikharkunalvarma/anaconda3/envs/health_predictor/lib/python3.12/site-packages (from scikit-learn) (3.2.0)\n"
          ]
        }
      ],
      "source": [
        "!pip install -U scikit-learn"
      ]
    },
    {
      "cell_type": "markdown",
      "metadata": {},
      "source": [
        "# Import all the required libraries"
      ]
    },
    {
      "cell_type": "code",
      "execution_count": 6,
      "metadata": {
        "colab": {
          "base_uri": "https://localhost:8080/"
        },
        "id": "q1nb1IyDDMNk",
        "outputId": "b6c90a2f-3795-4630-96b8-876f666cac0b"
      },
      "outputs": [
        {
          "name": "stderr",
          "output_type": "stream",
          "text": [
            "[nltk_data] Downloading package punkt to\n",
            "[nltk_data]     /Users/shikharkunalvarma/nltk_data...\n",
            "[nltk_data]   Package punkt is already up-to-date!\n",
            "[nltk_data] Downloading package stopwords to\n",
            "[nltk_data]     /Users/shikharkunalvarma/nltk_data...\n",
            "[nltk_data]   Package stopwords is already up-to-date!\n",
            "/var/folders/ky/3k7xgnnd3cs47n38b42hqwbm0000gn/T/ipykernel_95033/953942421.py:15: DeprecationWarning: \n",
            "Pyarrow will become a required dependency of pandas in the next major release of pandas (pandas 3.0),\n",
            "(to allow more performant data types, such as the Arrow string type, and better interoperability with other libraries)\n",
            "but was not found to be installed on your system.\n",
            "If this would cause problems for you,\n",
            "please provide us feedback at https://github.com/pandas-dev/pandas/issues/54466\n",
            "        \n",
            "  import pandas as pd\n"
          ]
        }
      ],
      "source": [
        "# PyTorch\n",
        "import torch\n",
        "import torch.nn as nn\n",
        "\n",
        "torch.manual_seed(10)\n",
        "torch.set_default_device(\"cuda\" if torch.cuda.is_available() else \"cpu\")\n",
        "\n",
        "# NLTK (Natural Language ToolKit)\n",
        "import nltk\n",
        "nltk.download('punkt')\n",
        "nltk.download('stopwords')\n",
        "from nltk.corpus import stopwords\n",
        "\n",
        "import re\n",
        "import pandas as pd\n",
        "import numpy as np\n",
        "from sklearn import decomposition\n",
        "from sklearn.metrics.pairwise import cosine_similarity\n",
        "\n",
        "# Graphing\n",
        "import seaborn as sns\n",
        "from matplotlib import pyplot as plt\n",
        "%matplotlib inline\n",
        "plt.rcParams['figure.figsize'] = (10,8)\n",
        "\n",
        "# Disable warnings\n",
        "import warnings\n",
        "warnings.filterwarnings(\"ignore\")"
      ]
    },
    {
      "cell_type": "markdown",
      "metadata": {},
      "source": [
        "## Sample corpus\n"
      ]
    },
    {
      "cell_type": "code",
      "execution_count": 7,
      "metadata": {
        "id": "KnZl_BTNDQRq"
      },
      "outputs": [],
      "source": [
        "corpus = [\n",
        "    'Drink milk',\n",
        "    'Drink cold water',\n",
        "    'Drink cold cola',\n",
        "    'He is drinking juice',\n",
        "    'Drinking cola and juice',\n",
        "    'Eat roti for lunch',\n",
        "    'Eat mango',\n",
        "    'Eating a cherry',\n",
        "    'Eating an apple',\n",
        "    'Juice with sugar',\n",
        "    'Cola with sugar',\n",
        "    'Mango is a fruit',\n",
        "    'Apple is a fruit',\n",
        "    'Cherry is a fruit',\n",
        "    'Berlin is in Germany',\n",
        "    'Boston is in USA',\n",
        "    'Mercedes is a car',\n",
        "    'Mercedes is from Germany',\n",
        "    'Ford is a car',\n",
        "    'Ford is a car from USA',\n",
        "]"
      ]
    },
    {
      "cell_type": "code",
      "execution_count": 8,
      "metadata": {
        "colab": {
          "base_uri": "https://localhost:8080/"
        },
        "id": "3HNXMVm9DTgL",
        "outputId": "264df170-0762-4321-db72-87812e13bbcf"
      },
      "outputs": [
        {
          "name": "stdout",
          "output_type": "stream",
          "text": [
            "i me my myself we our ours ourselves you you're you've you'll you'd your yours yourself yourselves he him his is are was were be been being have has had having do does did doing\n"
          ]
        }
      ],
      "source": [
        "# Some of the stopwords\n",
        "print(\" \".join(stopwords.words('english')[:20]),\" \".join(stopwords.words('english')[45:60]))"
      ]
    },
    {
      "cell_type": "markdown",
      "metadata": {},
      "source": [
        "# Preprocessing"
      ]
    },
    {
      "cell_type": "code",
      "execution_count": 9,
      "metadata": {
        "id": "6p09Z54hDbKW"
      },
      "outputs": [],
      "source": [
        "# The list of stopwords has been coverted into a set, making it faster to check if a given word is in it\n",
        "stop_words = set(stopwords.words('english'))\n",
        "\n",
        "def preprocess(corpus):\n",
        "    result = []\n",
        "    for sentence in corpus:\n",
        "        # Tokenize the sentence\n",
        "        tokens = nltk.word_tokenize(sentence.lower())  # Convert to lowercase\n",
        "        filtered_tokens = []\n",
        "        for token in tokens:\n",
        "            # Remove stopwords and words with length <= 2\n",
        "            if token not in stop_words and len(token) > 2:\n",
        "                # Reduce \"-ing\" form verbs to their normal forms\n",
        "                token = re.sub(r'ing$', '', token)\n",
        "                filtered_tokens.append(token)\n",
        "        result.append(filtered_tokens)\n",
        "    return result\n",
        "\n",
        "# Test for if the function behaves as expected, notice the last test case and expected output\n",
        "test_preprocess = preprocess(['Python is a language','The cake is a lie','He is doing practice','Writing code'])\n",
        "assert test_preprocess == [['python', 'language'],['cake', 'lie'],['practice'],['writ', 'code']]"
      ]
    },
    {
      "cell_type": "code",
      "execution_count": 10,
      "metadata": {
        "colab": {
          "base_uri": "https://localhost:8080/"
        },
        "id": "wsCFGalNDbvh",
        "outputId": "31ceeb33-6eea-4c1b-9db4-958d32b37efa"
      },
      "outputs": [
        {
          "data": {
            "text/plain": [
              "[['drink', 'milk'],\n",
              " ['drink', 'cold', 'water'],\n",
              " ['drink', 'cold', 'cola'],\n",
              " ['drink', 'juice'],\n",
              " ['drink', 'cola', 'juice'],\n",
              " ['eat', 'roti', 'lunch'],\n",
              " ['eat', 'mango'],\n",
              " ['eat', 'cherry'],\n",
              " ['eat', 'apple'],\n",
              " ['juice', 'sugar'],\n",
              " ['cola', 'sugar'],\n",
              " ['mango', 'fruit'],\n",
              " ['apple', 'fruit'],\n",
              " ['cherry', 'fruit'],\n",
              " ['berlin', 'germany'],\n",
              " ['boston', 'usa'],\n",
              " ['mercedes', 'car'],\n",
              " ['mercedes', 'germany'],\n",
              " ['ford', 'car'],\n",
              " ['ford', 'car', 'usa']]"
            ]
          },
          "execution_count": 10,
          "metadata": {},
          "output_type": "execute_result"
        }
      ],
      "source": [
        "corpus = preprocess(corpus)\n",
        "corpus"
      ]
    },
    {
      "cell_type": "markdown",
      "metadata": {},
      "source": [
        "## Vocabulary Creation\n"
      ]
    },
    {
      "cell_type": "code",
      "execution_count": 11,
      "metadata": {
        "colab": {
          "base_uri": "https://localhost:8080/"
        },
        "id": "C3LMcaBbDhwL",
        "outputId": "de579080-ba11-411b-84f1-cd732e733541"
      },
      "outputs": [
        {
          "data": {
            "text/plain": [
              "{'drink': 0,\n",
              " 'milk': 1,\n",
              " 'cold': 2,\n",
              " 'water': 3,\n",
              " 'cola': 4,\n",
              " 'juice': 5,\n",
              " 'eat': 6,\n",
              " 'roti': 7,\n",
              " 'lunch': 8,\n",
              " 'mango': 9,\n",
              " 'cherry': 10,\n",
              " 'apple': 11,\n",
              " 'sugar': 12,\n",
              " 'fruit': 13,\n",
              " 'berlin': 14,\n",
              " 'germany': 15,\n",
              " 'boston': 16,\n",
              " 'usa': 17,\n",
              " 'mercedes': 18,\n",
              " 'car': 19,\n",
              " 'ford': 20}"
            ]
          },
          "execution_count": 11,
          "metadata": {},
          "output_type": "execute_result"
        }
      ],
      "source": [
        "def create_vocabulary(corpus):\n",
        "    # Creates a dictionary with all unique words in corpus with id\n",
        "    vocabulary = {}\n",
        "    id = 0\n",
        "    for sentence in corpus:\n",
        "        for word in sentence:\n",
        "            if word not in vocabulary:\n",
        "                vocabulary[word] = id\n",
        "                id += 1\n",
        "    return vocabulary\n",
        "# Test for create_vocabulary\n",
        "assert(create_vocabulary([['words','are','many'],['many','words','exist'],['are','we','exist']]) == {'words': 0, 'are': 1, 'many': 2, 'exist': 3, 'we': 4})\n",
        "vocabulary = create_vocabulary(corpus)\n",
        "vocabulary"
      ]
    },
    {
      "cell_type": "markdown",
      "metadata": {},
      "source": [
        "# Preparing Neighbour Set\n"
      ]
    },
    {
      "cell_type": "code",
      "execution_count": 16,
      "metadata": {
        "colab": {
          "base_uri": "https://localhost:8080/"
        },
        "id": "iV93mqM1DiSB",
        "outputId": "a57aa770-fc26-4089-a08a-6239be7344e7"
      },
      "outputs": [
        {
          "name": "stdout",
          "output_type": "stream",
          "text": [
            "       Input    Output\n",
            "0       this        is\n",
            "1         is      this\n",
            "2         is         a\n",
            "3          a        is\n",
            "4          a      test\n",
            "5       test         a\n",
            "6       test  sentence\n",
            "7   sentence      test\n",
            "8    another      test\n",
            "9       test   another\n",
            "10      test  sentence\n",
            "11  sentence      test\n"
          ]
        }
      ],
      "source": [
        "def prepare_neighbour_set(corpus, n_gram=1):\n",
        "    # Creates a dataset with Input column and Output column for neighboring words.\n",
        "    # The number of neighbors = n_gram * 2\n",
        "    result = []\n",
        "    for sentence in corpus:\n",
        "        for i, word in enumerate(sentence):\n",
        "            # Look back\n",
        "            for j in range(max(i - n_gram, 0), i):\n",
        "                result.append({'Input': word, 'Output': sentence[j]})\n",
        "            # Look forward\n",
        "            for j in range(i + 1, min(i + n_gram + 1, len(sentence))):\n",
        "                result.append({'Input': word, 'Output': sentence[j]})\n",
        "    return pd.DataFrame(result)\n",
        "\n",
        "\n",
        "# Test the function\n",
        "corpus = [['this', 'is', 'a', 'test', 'sentence'], ['another', 'test', 'sentence']]\n",
        "result = prepare_neighbour_set(corpus, n_gram=1)\n",
        "print(result)"
      ]
    },
    {
      "cell_type": "code",
      "execution_count": 17,
      "metadata": {
        "colab": {
          "base_uri": "https://localhost:8080/",
          "height": 206
        },
        "id": "pk-esVXbDk4L",
        "outputId": "5c59f044-695e-4ee4-8cc3-cf657bb61f2c"
      },
      "outputs": [
        {
          "data": {
            "text/html": [
              "<div>\n",
              "<style scoped>\n",
              "    .dataframe tbody tr th:only-of-type {\n",
              "        vertical-align: middle;\n",
              "    }\n",
              "\n",
              "    .dataframe tbody tr th {\n",
              "        vertical-align: top;\n",
              "    }\n",
              "\n",
              "    .dataframe thead th {\n",
              "        text-align: right;\n",
              "    }\n",
              "</style>\n",
              "<table border=\"1\" class=\"dataframe\">\n",
              "  <thead>\n",
              "    <tr style=\"text-align: right;\">\n",
              "      <th></th>\n",
              "      <th>Input</th>\n",
              "      <th>Output</th>\n",
              "    </tr>\n",
              "  </thead>\n",
              "  <tbody>\n",
              "    <tr>\n",
              "      <th>0</th>\n",
              "      <td>this</td>\n",
              "      <td>is</td>\n",
              "    </tr>\n",
              "    <tr>\n",
              "      <th>1</th>\n",
              "      <td>this</td>\n",
              "      <td>a</td>\n",
              "    </tr>\n",
              "    <tr>\n",
              "      <th>2</th>\n",
              "      <td>is</td>\n",
              "      <td>this</td>\n",
              "    </tr>\n",
              "    <tr>\n",
              "      <th>3</th>\n",
              "      <td>is</td>\n",
              "      <td>a</td>\n",
              "    </tr>\n",
              "    <tr>\n",
              "      <th>4</th>\n",
              "      <td>is</td>\n",
              "      <td>test</td>\n",
              "    </tr>\n",
              "  </tbody>\n",
              "</table>\n",
              "</div>"
            ],
            "text/plain": [
              "  Input Output\n",
              "0  this     is\n",
              "1  this      a\n",
              "2    is   this\n",
              "3    is      a\n",
              "4    is   test"
            ]
          },
          "execution_count": 17,
          "metadata": {},
          "output_type": "execute_result"
        }
      ],
      "source": [
        "# Test to check prepare_neighbour_set. The rows are\n",
        "# sorted to make the assertion order-insensitive\n",
        "test_neighbour = prepare_neighbour_set([['this','is','a','sentence']]).sort_values(by=['Input','Output'])\n",
        "\n",
        "test_neighbour_expected = pd.DataFrame({\n",
        "    'Input': ['this','is','is','a','a','sentence'],\n",
        "    'Output': ['is','this','a','is','sentence','a']\n",
        "}).sort_values(by=['Input','Output'])\n",
        "\n",
        "assert test_neighbour.equals(test_neighbour_expected)\n",
        "\n",
        "# Initialize neighbour words dataset for corpus\n",
        "train_emb = prepare_neighbour_set(corpus, n_gram = 2)\n",
        "train_emb.head()"
      ]
    },
    {
      "cell_type": "code",
      "execution_count": 18,
      "metadata": {
        "colab": {
          "base_uri": "https://localhost:8080/",
          "height": 206
        },
        "id": "lfDo7EWaDnF0",
        "outputId": "ad2fc1ce-4e90-44ae-cdcd-8338624e6d6c"
      },
      "outputs": [
        {
          "data": {
            "text/html": [
              "<div>\n",
              "<style scoped>\n",
              "    .dataframe tbody tr th:only-of-type {\n",
              "        vertical-align: middle;\n",
              "    }\n",
              "\n",
              "    .dataframe tbody tr th {\n",
              "        vertical-align: top;\n",
              "    }\n",
              "\n",
              "    .dataframe thead th {\n",
              "        text-align: right;\n",
              "    }\n",
              "</style>\n",
              "<table border=\"1\" class=\"dataframe\">\n",
              "  <thead>\n",
              "    <tr style=\"text-align: right;\">\n",
              "      <th></th>\n",
              "      <th>Input</th>\n",
              "      <th>Output</th>\n",
              "    </tr>\n",
              "  </thead>\n",
              "  <tbody>\n",
              "    <tr>\n",
              "      <th>0</th>\n",
              "      <td>NaN</td>\n",
              "      <td>NaN</td>\n",
              "    </tr>\n",
              "    <tr>\n",
              "      <th>1</th>\n",
              "      <td>NaN</td>\n",
              "      <td>NaN</td>\n",
              "    </tr>\n",
              "    <tr>\n",
              "      <th>2</th>\n",
              "      <td>NaN</td>\n",
              "      <td>NaN</td>\n",
              "    </tr>\n",
              "    <tr>\n",
              "      <th>3</th>\n",
              "      <td>NaN</td>\n",
              "      <td>NaN</td>\n",
              "    </tr>\n",
              "    <tr>\n",
              "      <th>4</th>\n",
              "      <td>NaN</td>\n",
              "      <td>NaN</td>\n",
              "    </tr>\n",
              "  </tbody>\n",
              "</table>\n",
              "</div>"
            ],
            "text/plain": [
              "   Input  Output\n",
              "0    NaN     NaN\n",
              "1    NaN     NaN\n",
              "2    NaN     NaN\n",
              "3    NaN     NaN\n",
              "4    NaN     NaN"
            ]
          },
          "execution_count": 18,
          "metadata": {},
          "output_type": "execute_result"
        }
      ],
      "source": [
        "train_emb.Input = train_emb.Input.map(vocabulary)\n",
        "train_emb.Output = train_emb.Output.map(vocabulary)\n",
        "train_emb.head()"
      ]
    },
    {
      "cell_type": "code",
      "execution_count": 19,
      "metadata": {
        "id": "RX3-bsocDpEL"
      },
      "outputs": [],
      "source": [
        "def get_one_hot(index, vocab_size):\n",
        "    # Create one-hot vector of size vocab_size from index\n",
        "    one_hot = torch.zeros(vocab_size)\n",
        "    one_hot[index] = 1\n",
        "    return one_hot.float()\n",
        "\n",
        "def get_input_tensor(tensor, vocab_size):\n",
        "    batch_size = tensor.shape[0]\n",
        "    # Transform 1D tensor of word indexes to one-hot encoded 2D tensor of dimensions (batch_size, vocab_size)\n",
        "    inp = torch.zeros(batch_size, vocab_size)\n",
        "    for i, index in enumerate(tensor):\n",
        "        inp[i] = get_one_hot(index.item(), vocab_size)  # Ensure index is converted to int\n",
        "    return inp.float()\n",
        "\n",
        "\n",
        "# Test cases\n",
        "assert torch.all(get_one_hot(0, 3).eq(torch.tensor([[1, 0, 0]])))\n",
        "assert torch.all(get_input_tensor(torch.tensor([1, 2, 0]), 3).eq(torch.tensor([[0, 1, 0], [0, 0, 1], [1, 0, 0]])))"
      ]
    },
    {
      "cell_type": "markdown",
      "metadata": {},
      "source": [
        "# Defining Model\n"
      ]
    },
    {
      "cell_type": "code",
      "execution_count": 20,
      "metadata": {
        "id": "2FAIgwAtDrzI"
      },
      "outputs": [],
      "source": [
        "vocab_size = len(vocabulary)\n",
        "embed_dims = 4\n",
        "\n",
        "skipgram_model = nn.Sequential(\n",
        "    nn.Linear(vocab_size, embed_dims, bias=False),\n",
        "    nn.Linear(embed_dims, vocab_size, bias=False)\n",
        ")\n",
        "\n",
        "# Check dimensions (will raise an exception if not Linear layers)\n",
        "assert skipgram_model[0].weight.shape == (embed_dims, vocab_size)\n",
        "assert skipgram_model[1].weight.shape == (vocab_size, embed_dims)\n",
        "# No bias\n",
        "assert skipgram_model[0].bias is None and skipgram_model[1].bias is None"
      ]
    },
    {
      "cell_type": "code",
      "execution_count": 21,
      "metadata": {
        "id": "u_YGOM5xDwCD"
      },
      "outputs": [],
      "source": [
        "num_epochs = 2000\n",
        "learning_rate = 2e-1"
      ]
    },
    {
      "cell_type": "code",
      "execution_count": 22,
      "metadata": {
        "colab": {
          "base_uri": "https://localhost:8080/"
        },
        "id": "xG437-fsJ0LT",
        "outputId": "2aaa42bb-a911-4827-8f2c-acd931ef3239"
      },
      "outputs": [
        {
          "data": {
            "text/plain": [
              "False"
            ]
          },
          "execution_count": 22,
          "metadata": {},
          "output_type": "execute_result"
        }
      ],
      "source": [
        "torch.cuda.is_available()"
      ]
    },
    {
      "cell_type": "markdown",
      "metadata": {},
      "source": [
        "# Training the model"
      ]
    },
    {
      "cell_type": "code",
      "execution_count": 23,
      "metadata": {
        "id": "xtv7t6Z0Dwue"
      },
      "outputs": [
        {
          "name": "stdout",
          "output_type": "stream",
          "text": [
            "Epoch 0, loss = 2.9769091606140137\n",
            "Epoch 250, loss = 0.0011931689223274589\n",
            "Epoch 500, loss = 0.0005346299149096012\n",
            "Epoch 750, loss = 0.00033718624035827816\n",
            "Epoch 1000, loss = 0.0002443492121528834\n",
            "Epoch 1250, loss = 0.0001903591037262231\n",
            "Epoch 1500, loss = 0.00015519841690547764\n",
            "Epoch 1750, loss = 0.0001307640050072223\n"
          ]
        },
        {
          "data": {
            "image/png": "[encoded data removed]",
            "text/plain": [
              "<Figure size 1000x800 with 1 Axes>"
            ]
          },
          "metadata": {},
          "output_type": "display_data"
        }
      ],
      "source": [
        "import torch.optim as optim\n",
        "\n",
        "# Check if CUDA is available\n",
        "device = torch.device(\"cuda\" if torch.cuda.is_available() else \"cpu\")\n",
        "\n",
        "loss_fn = torch.nn.CrossEntropyLoss()  # define loss function\n",
        "loss_hist = []  # list to store loss values, to plot at the end\n",
        "\n",
        "# Initialize data and labels\n",
        "train_data = get_input_tensor(torch.tensor(train_emb.Input.values.astype(int)), vocab_size)\n",
        "\n",
        "train_labels = torch.tensor(train_emb.Output.values, dtype=torch.long)  # Should be a 1D tensor of the indexes of the neighbor words expected\n",
        "\n",
        "# Move tensors to device\n",
        "train_data = train_data.to(device)\n",
        "train_labels = train_labels.to(device, dtype=torch.long)  # Ensure train_labels is of type long\n",
        "\n",
        "assert train_data.shape == (train_emb.shape[0], vocab_size)\n",
        "assert train_labels.shape == (train_emb.shape[0],)\n",
        "\n",
        "# Move model to device\n",
        "skipgram_model.to(device)\n",
        "\n",
        "optimizer = optim.SGD(skipgram_model.parameters(), lr=learning_rate)\n",
        "\n",
        "for epo in range(num_epochs):\n",
        "    # Forward pass\n",
        "    predictions = skipgram_model(train_data)\n",
        "\n",
        "    # Compute loss\n",
        "    loss = loss_fn(predictions, train_labels)\n",
        "\n",
        "    # Reset gradients\n",
        "    optimizer.zero_grad()\n",
        "\n",
        "    # Backpropagation step\n",
        "    loss.backward()\n",
        "\n",
        "    # Update weights using gradient descent\n",
        "    optimizer.step()\n",
        "\n",
        "    loss_hist.append(loss.item())\n",
        "\n",
        "    # Print the loss every 250 epochs\n",
        "    if epo % 250 == 0:\n",
        "        print(f'Epoch {epo}, loss = {loss}')\n",
        "\n",
        "plt.plot(loss_hist)\n",
        "plt.xlabel(\"No. of epochs\")\n",
        "plt.ylabel(\"Loss\")\n",
        "plt.show()\n"
      ]
    },
    {
      "cell_type": "code",
      "execution_count": 24,
      "metadata": {
        "id": "kctb4FS3DzeU"
      },
      "outputs": [],
      "source": [
        "# Access the tensor containing the weights of the first hidden layer\n",
        "W1_tensor = skipgram_model[0].weight.data\n",
        "\n",
        "# Detach the tensor to create a copy and convert it to a NumPy ndarray\n",
        "W1 = W1_tensor.detach().numpy()\n",
        "\n",
        "# Transpose the matrix to match the expected shape\n",
        "W1 = W1.T\n",
        "\n",
        "assert isinstance(W1, np.ndarray) and W1.shape == (vocab_size, embed_dims)\n"
      ]
    },
    {
      "cell_type": "markdown",
      "metadata": {},
      "source": [
        "# Using SVD to reduce 4D to 2D "
      ]
    },
    {
      "cell_type": "code",
      "execution_count": 25,
      "metadata": {
        "id": "Y7DbgT7zD2a1"
      },
      "outputs": [
        {
          "data": {
            "image/png": "[encoded data removed]",
            "text/plain": [
              "<Figure size 1000x800 with 1 Axes>"
            ]
          },
          "metadata": {},
          "output_type": "display_data"
        }
      ],
      "source": [
        "svd = decomposition.TruncatedSVD(n_components=2)\n",
        "W1_dec = svd.fit_transform(W1) #Now a 21 x 2 matrix\n",
        "\n",
        "# Just like we saw in the original W1, each row is\n",
        "# a word embedding, i.e a given column contains the\n",
        "# components of every word embedding along a certain \"direction\"\n",
        "x = W1_dec[:,0]\n",
        "y = W1_dec[:,1]\n",
        "plot = sns.scatterplot(x=x, y=y)\n",
        "\n",
        "# Red dot on the origin\n",
        "plot.scatter(x=0, y=0, color='r',s=10)\n",
        "\n",
        "for i in range(0,W1_dec.shape[0]):\n",
        "     plot.text(x[i], y[i], list(vocabulary.keys())[i], horizontalalignment='center', size='small', color='black', weight='normal');"
      ]
    },
    {
      "cell_type": "code",
      "execution_count": 28,
      "metadata": {
        "id": "Frf6ssa5D5aM"
      },
      "outputs": [],
      "source": [
        "def get_embeddings(word):\n",
        "    # Get the 4D and 2D representations corresponding to the word\n",
        "    # using vocabulary, W1 and W1_dec\n",
        "    index = vocabulary[word]\n",
        "    vec_4d = W1[index].reshape(1, -1)  # Reshape to ensure a 2D array\n",
        "    vec_2d = W1_dec[index].reshape(1, -1)  # Reshape to ensure a 2D array\n",
        "    return vec_4d, vec_2d\n"
      ]
    },
    {
      "cell_type": "markdown",
      "metadata": {},
      "source": [
        "# Comparing using Cosine Similarity\n"
      ]
    },
    {
      "cell_type": "code",
      "execution_count": 29,
      "metadata": {
        "id": "Rz92uuStD7wc"
      },
      "outputs": [
        {
          "name": "stdout",
          "output_type": "stream",
          "text": [
            "Cosine similarity of cherry and apple:\n",
            "4D: -0.033\n",
            "2D: 0.140\n"
          ]
        }
      ],
      "source": [
        "# <START>\n",
        "word1 = 'cherry'\n",
        "word2 = 'apple'\n",
        "# <END>\n",
        "\n",
        "assert vocabulary[word1] is not None and vocabulary[word2] is not None\n",
        "\n",
        "word1_4d, word1_2d = get_embeddings(word1)\n",
        "word2_4d, word2_2d = get_embeddings(word2)\n",
        "\n",
        "print(f'Cosine similarity of {word1} and {word2}:')\n",
        "print('4D: {:.3f}'.format(cosine_similarity(word1_4d, word2_4d)[0, 0]))\n",
        "print('2D: {:.3f}'.format(cosine_similarity(word1_2d, word2_2d)[0, 0]))\n"
      ]
    },
    {
      "cell_type": "code",
      "execution_count": 30,
      "metadata": {
        "id": "RYryf7KdD-Nw"
      },
      "outputs": [],
      "source": [
        "def closest_neighbors(word):\n",
        "    # Get the embeddings for the input word\n",
        "    word_4d, word_2d = get_embeddings(word)\n",
        "\n",
        "    # Initialize variables to store the most similar word and its similarity score\n",
        "    most_similar_word_4d = None\n",
        "    most_similar_word_2d = None\n",
        "    max_similarity_4d = -1\n",
        "    max_similarity_2d = -1\n",
        "\n",
        "    # Iterate over the vocabulary to find the most similar word\n",
        "    for w in vocabulary:\n",
        "        if w == word:\n",
        "            continue  # Skip the input word itself\n",
        "\n",
        "        # Get the embeddings for the current word\n",
        "        w_4d, w_2d = get_embeddings(w)\n",
        "\n",
        "        # Compute cosine similarity between the input word and the current word embeddings\n",
        "        sim_4d = cosine_similarity(word_4d, w_4d)[0, 0]\n",
        "        sim_2d = cosine_similarity(word_2d, w_2d)[0, 0]\n",
        "\n",
        "        # Update most similar word and similarity score if the current word has higher similarity\n",
        "        if sim_4d > max_similarity_4d:\n",
        "            most_similar_word_4d = w\n",
        "            max_similarity_4d = sim_4d\n",
        "\n",
        "        if sim_2d > max_similarity_2d:\n",
        "            most_similar_word_2d = w\n",
        "            max_similarity_2d = sim_2d\n",
        "\n",
        "    # Print the results\n",
        "    print(f'Most similar word to {word} (4D): {most_similar_word_4d} (Similarity: {max_similarity_4d:.3f})')\n",
        "    print(f'Most similar word to {word} (2D): {most_similar_word_2d} (Similarity: {max_similarity_2d:.3f})')\n"
      ]
    },
    {
      "cell_type": "code",
      "execution_count": 31,
      "metadata": {
        "id": "wAAau2nMEA-j"
      },
      "outputs": [
        {
          "name": "stdout",
          "output_type": "stream",
          "text": [
            "Most similar word to drink (4D): roti (Similarity: 0.980)\n",
            "Most similar word to drink (2D): eat (Similarity: 0.998)\n",
            "Most similar word to milk (4D): water (Similarity: 0.919)\n",
            "Most similar word to milk (2D): cold (Similarity: 0.999)\n",
            "Most similar word to cold (4D): water (Similarity: 0.808)\n",
            "Most similar word to cold (2D): milk (Similarity: 0.999)\n",
            "Most similar word to water (4D): berlin (Similarity: 0.936)\n",
            "Most similar word to water (2D): milk (Similarity: 0.991)\n",
            "Most similar word to cola (4D): juice (Similarity: 0.870)\n",
            "Most similar word to cola (2D): juice (Similarity: 0.995)\n",
            "Most similar word to juice (4D): cola (Similarity: 0.870)\n",
            "Most similar word to juice (2D): cola (Similarity: 0.995)\n",
            "Most similar word to eat (4D): drink (Similarity: 0.863)\n",
            "Most similar word to eat (2D): drink (Similarity: 0.998)\n",
            "Most similar word to roti (4D): drink (Similarity: 0.980)\n",
            "Most similar word to roti (2D): eat (Similarity: 0.997)\n",
            "Most similar word to lunch (4D): mercedes (Similarity: 0.993)\n",
            "Most similar word to lunch (2D): mercedes (Similarity: 0.992)\n",
            "Most similar word to mango (4D): usa (Similarity: 0.960)\n",
            "Most similar word to mango (2D): fruit (Similarity: 0.983)\n",
            "Most similar word to cherry (4D): car (Similarity: 0.992)\n",
            "Most similar word to cherry (2D): car (Similarity: 1.000)\n",
            "Most similar word to apple (4D): fruit (Similarity: 0.918)\n",
            "Most similar word to apple (2D): usa (Similarity: 0.995)\n",
            "Most similar word to sugar (4D): germany (Similarity: 0.919)\n",
            "Most similar word to sugar (2D): germany (Similarity: 1.000)\n",
            "Most similar word to fruit (4D): apple (Similarity: 0.918)\n",
            "Most similar word to fruit (2D): usa (Similarity: 0.991)\n",
            "Most similar word to berlin (4D): roti (Similarity: 0.960)\n",
            "Most similar word to berlin (2D): roti (Similarity: 0.976)\n",
            "Most similar word to germany (4D): sugar (Similarity: 0.919)\n",
            "Most similar word to germany (2D): sugar (Similarity: 1.000)\n",
            "Most similar word to boston (4D): mango (Similarity: 0.848)\n",
            "Most similar word to boston (2D): juice (Similarity: 0.861)\n",
            "Most similar word to usa (4D): mango (Similarity: 0.960)\n",
            "Most similar word to usa (2D): apple (Similarity: 0.995)\n",
            "Most similar word to mercedes (4D): lunch (Similarity: 0.993)\n",
            "Most similar word to mercedes (2D): sugar (Similarity: 0.995)\n",
            "Most similar word to car (4D): cherry (Similarity: 0.992)\n",
            "Most similar word to car (2D): cherry (Similarity: 1.000)\n",
            "Most similar word to ford (4D): usa (Similarity: 0.642)\n",
            "Most similar word to ford (2D): lunch (Similarity: 0.965)\n"
          ]
        }
      ],
      "source": [
        "for w in vocabulary.keys():\n",
        "  closest_neighbors(w)"
      ]
    }
  ],
  "metadata": {
    "colab": {
      "provenance": []
    },
    "kernelspec": {
      "display_name": "rl",
      "language": "python",
      "name": "rl"
    },
    "language_info": {
      "codemirror_mode": {
        "name": "ipython",
        "version": 3
      },
      "file_extension": ".py",
      "mimetype": "text/x-python",
      "name": "python",
      "nbconvert_exporter": "python",
      "pygments_lexer": "ipython3",
      "version": "3.12.1"
    }
  },
  "nbformat": 4,
  "nbformat_minor": 0
}
